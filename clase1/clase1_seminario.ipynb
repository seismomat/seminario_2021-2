{
  "nbformat": 4,
  "nbformat_minor": 0,
  "metadata": {
    "colab": {
      "name": "clase1_seminario.ipynb",
      "provenance": [],
      "collapsed_sections": []
    },
    "kernelspec": {
      "name": "python3",
      "display_name": "Python 3"
    }
  },
  "cells": [
    {
      "cell_type": "markdown",
      "metadata": {
        "id": "1N_6Rli8EPrQ"
      },
      "source": [
        "#Con el comando writefile se crea el programa con extension \" .c \""
      ]
    },
    {
      "cell_type": "code",
      "metadata": {
        "colab": {
          "base_uri": "https://localhost:8080/"
        },
        "id": "0wc3ncFaw0K9",
        "outputId": "cc8c3ae1-1bf2-4538-e958-36b5c1454c04"
      },
      "source": [
        "%%writefile hola.c\n",
        "\n",
        "#include<stdio.h> // esta es una biblioteca\n",
        "\n",
        "void main(){\n",
        "\t\n",
        "  /* este es para comentarios largos */ \n",
        "\n",
        "\tint a=1;  // declara una variable entera \n",
        "\tfloat b=1.25, c=2.25; // declaran variables flotantes.\n",
        "  char cadena[10]=\"jaja\"; // declara una cadena  \n",
        "\n",
        "  // el formato de impresion para cadenas es %s\n",
        "  printf(\" %s \\n\",cadena);\n",
        "\n",
        "  // el formato de impresion para enteros es %d o %i\n",
        "\tprintf(\" %i %f %f \\n\",a,b,c); \n",
        "\n",
        "\tprintf(\"Hola mundo \\n\");\n",
        "\n",
        "  printf(\" %d \\n \", 1+1);\n",
        "\n",
        "  //  lectura desde teclado\n",
        "\n",
        "  int n;\n",
        "  printf(\" dame un numero entero: \\n\"); // se pide el numero\n",
        "  scanf(\" %i\", &n); // se guarda el numero en la variable n\n",
        "\n",
        "  printf(\" el numero ingresado es %d\",n); // se imprime la variable n\n",
        "\n",
        "\t\n",
        "\n",
        "}"
      ],
      "execution_count": 33,
      "outputs": [
        {
          "output_type": "stream",
          "text": [
            "Overwriting hola.c\n"
          ],
          "name": "stdout"
        }
      ]
    },
    {
      "cell_type": "markdown",
      "metadata": {
        "id": "fn-sA9wZEH5F"
      },
      "source": [
        "#Con la sentencia script bash  se compila el programa."
      ]
    },
    {
      "cell_type": "code",
      "metadata": {
        "colab": {
          "base_uri": "https://localhost:8080/"
        },
        "id": "Zq6cR0O28PWv",
        "outputId": "d73f7c21-788c-454d-d2c9-9c0bf11ff653"
      },
      "source": [
        "%%script bash\n",
        "\n",
        "gcc hola.c -o hola\n",
        "./hola"
      ],
      "execution_count": 34,
      "outputs": [
        {
          "output_type": "stream",
          "text": [
            " jaja \n",
            " 1 1.250000 2.250000 \n",
            "Hola mundo \n",
            " 2 \n",
            "  dame un numero entero: \n",
            " el numero ingresado es 0"
          ],
          "name": "stdout"
        }
      ]
    },
    {
      "cell_type": "code",
      "metadata": {
        "colab": {
          "base_uri": "https://localhost:8080/"
        },
        "id": "9Q6VAVBD9T_q",
        "outputId": "061c6e67-78fb-473d-9312-53575ae46313"
      },
      "source": [
        ""
      ],
      "execution_count": 30,
      "outputs": [
        {
          "output_type": "execute_result",
          "data": {
            "text/plain": [
              "5"
            ]
          },
          "metadata": {
            "tags": []
          },
          "execution_count": 30
        }
      ]
    },
    {
      "cell_type": "code",
      "metadata": {
        "id": "JO2v85vVAC9a"
      },
      "source": [
        ""
      ],
      "execution_count": null,
      "outputs": []
    }
  ]
}